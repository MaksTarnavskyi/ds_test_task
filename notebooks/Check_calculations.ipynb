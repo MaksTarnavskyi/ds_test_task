{
 "cells": [
  {
   "cell_type": "code",
   "execution_count": 1,
   "metadata": {},
   "outputs": [],
   "source": [
    "#autoreload modules after changes\n",
    "%load_ext autoreload\n",
    "%autoreload 2\n",
    "\n",
    "import sys\n",
    "import os\n",
    "sys.path.insert(1, os.getcwd()+ '/../')"
   ]
  },
  {
   "cell_type": "code",
   "execution_count": 2,
   "metadata": {},
   "outputs": [],
   "source": [
    "from module.Preprocessor import Preprocessor\n",
    "\n",
    "preprocessor = Preprocessor()\n",
    "\n",
    "preprocessor.fit_train(train_filename=\"../data/train.tsv\")"
   ]
  },
  {
   "cell_type": "code",
   "execution_count": 3,
   "metadata": {},
   "outputs": [
    {
     "data": {
      "text/html": [
       "<div>\n",
       "<style scoped>\n",
       "    .dataframe tbody tr th:only-of-type {\n",
       "        vertical-align: middle;\n",
       "    }\n",
       "\n",
       "    .dataframe tbody tr th {\n",
       "        vertical-align: top;\n",
       "    }\n",
       "\n",
       "    .dataframe thead th {\n",
       "        text-align: right;\n",
       "    }\n",
       "</style>\n",
       "<table border=\"1\" class=\"dataframe\">\n",
       "  <thead>\n",
       "    <tr style=\"text-align: right;\">\n",
       "      <th></th>\n",
       "      <th>id_job</th>\n",
       "      <th>features</th>\n",
       "    </tr>\n",
       "  </thead>\n",
       "  <tbody>\n",
       "    <tr>\n",
       "      <th>0</th>\n",
       "      <td>1864791934054678713</td>\n",
       "      <td>2,9835,9999,9941,9945,9386,9899,9421,9954,9952...</td>\n",
       "    </tr>\n",
       "    <tr>\n",
       "      <th>1</th>\n",
       "      <td>-7413918695841089440</td>\n",
       "      <td>2,9082,9999,9700,9669,9981,9729,9822,9667,9526...</td>\n",
       "    </tr>\n",
       "  </tbody>\n",
       "</table>\n",
       "</div>"
      ],
      "text/plain": [
       "                id_job                                           features\n",
       "0  1864791934054678713  2,9835,9999,9941,9945,9386,9899,9421,9954,9952...\n",
       "1 -7413918695841089440  2,9082,9999,9700,9669,9981,9729,9822,9667,9526..."
      ]
     },
     "execution_count": 3,
     "metadata": {},
     "output_type": "execute_result"
    }
   ],
   "source": [
    "import pandas as pd\n",
    "import numpy as np\n",
    "\n",
    "train = pd.read_csv(\"../data/train.tsv\", sep=\"\\t\")\n",
    "train.head(2)"
   ]
  },
  {
   "cell_type": "code",
   "execution_count": 4,
   "metadata": {},
   "outputs": [
    {
     "data": {
      "text/html": [
       "<div>\n",
       "<style scoped>\n",
       "    .dataframe tbody tr th:only-of-type {\n",
       "        vertical-align: middle;\n",
       "    }\n",
       "\n",
       "    .dataframe tbody tr th {\n",
       "        vertical-align: top;\n",
       "    }\n",
       "\n",
       "    .dataframe thead th {\n",
       "        text-align: right;\n",
       "    }\n",
       "</style>\n",
       "<table border=\"1\" class=\"dataframe\">\n",
       "  <thead>\n",
       "    <tr style=\"text-align: right;\">\n",
       "      <th></th>\n",
       "      <th>0</th>\n",
       "      <th>1</th>\n",
       "      <th>2</th>\n",
       "      <th>3</th>\n",
       "      <th>4</th>\n",
       "      <th>5</th>\n",
       "      <th>6</th>\n",
       "      <th>7</th>\n",
       "      <th>8</th>\n",
       "      <th>9</th>\n",
       "      <th>...</th>\n",
       "      <th>247</th>\n",
       "      <th>248</th>\n",
       "      <th>249</th>\n",
       "      <th>250</th>\n",
       "      <th>251</th>\n",
       "      <th>252</th>\n",
       "      <th>253</th>\n",
       "      <th>254</th>\n",
       "      <th>255</th>\n",
       "      <th>256</th>\n",
       "    </tr>\n",
       "  </thead>\n",
       "  <tbody>\n",
       "    <tr>\n",
       "      <th>0</th>\n",
       "      <td>2.0</td>\n",
       "      <td>9835.0</td>\n",
       "      <td>9999.0</td>\n",
       "      <td>9941.0</td>\n",
       "      <td>9945.0</td>\n",
       "      <td>9386.0</td>\n",
       "      <td>9899.0</td>\n",
       "      <td>9421.0</td>\n",
       "      <td>9954.0</td>\n",
       "      <td>9952.0</td>\n",
       "      <td>...</td>\n",
       "      <td>8818.0</td>\n",
       "      <td>9954.0</td>\n",
       "      <td>9925.0</td>\n",
       "      <td>9934.0</td>\n",
       "      <td>8689.0</td>\n",
       "      <td>9958.0</td>\n",
       "      <td>9086.0</td>\n",
       "      <td>9114.0</td>\n",
       "      <td>9950.0</td>\n",
       "      <td>9875.0</td>\n",
       "    </tr>\n",
       "    <tr>\n",
       "      <th>1</th>\n",
       "      <td>2.0</td>\n",
       "      <td>9082.0</td>\n",
       "      <td>9999.0</td>\n",
       "      <td>9700.0</td>\n",
       "      <td>9669.0</td>\n",
       "      <td>9981.0</td>\n",
       "      <td>9729.0</td>\n",
       "      <td>9822.0</td>\n",
       "      <td>9667.0</td>\n",
       "      <td>9526.0</td>\n",
       "      <td>...</td>\n",
       "      <td>9979.0</td>\n",
       "      <td>9752.0</td>\n",
       "      <td>9695.0</td>\n",
       "      <td>9676.0</td>\n",
       "      <td>9974.0</td>\n",
       "      <td>9788.0</td>\n",
       "      <td>9955.0</td>\n",
       "      <td>9907.0</td>\n",
       "      <td>9747.0</td>\n",
       "      <td>9824.0</td>\n",
       "    </tr>\n",
       "  </tbody>\n",
       "</table>\n",
       "<p>2 rows × 257 columns</p>\n",
       "</div>"
      ],
      "text/plain": [
       "   0       1       2       3       4       5       6       7       8    \\\n",
       "0  2.0  9835.0  9999.0  9941.0  9945.0  9386.0  9899.0  9421.0  9954.0   \n",
       "1  2.0  9082.0  9999.0  9700.0  9669.0  9981.0  9729.0  9822.0  9667.0   \n",
       "\n",
       "      9    ...     247     248     249     250     251     252     253  \\\n",
       "0  9952.0  ...  8818.0  9954.0  9925.0  9934.0  8689.0  9958.0  9086.0   \n",
       "1  9526.0  ...  9979.0  9752.0  9695.0  9676.0  9974.0  9788.0  9955.0   \n",
       "\n",
       "      254     255     256  \n",
       "0  9114.0  9950.0  9875.0  \n",
       "1  9907.0  9747.0  9824.0  \n",
       "\n",
       "[2 rows x 257 columns]"
      ]
     },
     "execution_count": 4,
     "metadata": {},
     "output_type": "execute_result"
    }
   ],
   "source": [
    "features = pd.DataFrame(list(train.features.apply(preprocessor._get_float_feature_values)))\n",
    "features.head(2)"
   ]
  },
  {
   "cell_type": "code",
   "execution_count": 5,
   "metadata": {},
   "outputs": [],
   "source": [
    "features = features.drop(columns=[0])"
   ]
  },
  {
   "cell_type": "markdown",
   "metadata": {},
   "source": [
    "### Mean"
   ]
  },
  {
   "cell_type": "code",
   "execution_count": 6,
   "metadata": {},
   "outputs": [
    {
     "data": {
      "text/plain": [
       "array([9528.70212766, 9867.72090113, 9746.36795995, 9687.6795995 ])"
      ]
     },
     "execution_count": 6,
     "metadata": {},
     "output_type": "execute_result"
    }
   ],
   "source": [
    "mean_by_pandas = features.mean(axis=0).values\n",
    "mean_by_pandas[:4]"
   ]
  },
  {
   "cell_type": "code",
   "execution_count": 7,
   "metadata": {},
   "outputs": [
    {
     "data": {
      "text/plain": [
       "array([9528.70212766, 9867.72090113, 9746.36795995, 9687.6795995 ])"
      ]
     },
     "execution_count": 7,
     "metadata": {},
     "output_type": "execute_result"
    }
   ],
   "source": [
    "mean_by_module = preprocessor._stats_features[\"2\"][\"mean\"]\n",
    "mean_by_module[:4]"
   ]
  },
  {
   "cell_type": "code",
   "execution_count": 8,
   "metadata": {},
   "outputs": [
    {
     "data": {
      "text/plain": [
       "0.0"
      ]
     },
     "execution_count": 8,
     "metadata": {},
     "output_type": "execute_result"
    }
   ],
   "source": [
    "np.linalg.norm(mean_by_pandas - mean_by_module)"
   ]
  },
  {
   "cell_type": "markdown",
   "metadata": {},
   "source": [
    "### Std"
   ]
  },
  {
   "cell_type": "code",
   "execution_count": 9,
   "metadata": {},
   "outputs": [
    {
     "data": {
      "text/plain": [
       "array([553.30249005, 560.63865162, 316.17831455, 412.5531271 ])"
      ]
     },
     "execution_count": 9,
     "metadata": {},
     "output_type": "execute_result"
    }
   ],
   "source": [
    "std_by_pandas = features.std(axis=0).values\n",
    "std_by_pandas[:4]"
   ]
  },
  {
   "cell_type": "code",
   "execution_count": 10,
   "metadata": {},
   "outputs": [
    {
     "data": {
      "text/plain": [
       "array([552.95613478, 560.28770408, 315.98039383, 412.29487785])"
      ]
     },
     "execution_count": 10,
     "metadata": {},
     "output_type": "execute_result"
    }
   ],
   "source": [
    "std_by_module = preprocessor._stats_features[\"2\"][\"std\"]\n",
    "std_by_module[:4]"
   ]
  },
  {
   "cell_type": "code",
   "execution_count": 11,
   "metadata": {},
   "outputs": [
    {
     "data": {
      "text/plain": [
       "4.011083135939738"
      ]
     },
     "execution_count": 11,
     "metadata": {},
     "output_type": "execute_result"
    }
   ],
   "source": [
    "np.linalg.norm(std_by_pandas - std_by_module)"
   ]
  }
 ],
 "metadata": {
  "kernelspec": {
   "display_name": "Python 3",
   "language": "python",
   "name": "python3"
  },
  "language_info": {
   "codemirror_mode": {
    "name": "ipython",
    "version": 3
   },
   "file_extension": ".py",
   "mimetype": "text/x-python",
   "name": "python",
   "nbconvert_exporter": "python",
   "pygments_lexer": "ipython3",
   "version": "3.6.9"
  }
 },
 "nbformat": 4,
 "nbformat_minor": 2
}
